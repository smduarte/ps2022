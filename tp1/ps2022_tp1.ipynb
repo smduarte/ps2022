{
  "nbformat": 4,
  "nbformat_minor": 0,
  "metadata": {
    "colab": {
      "name": "ps2022-tp1",
      "provenance": [],
      "collapsed_sections": [],
      "include_colab_link": true
    },
    "kernelspec": {
      "name": "python3",
      "display_name": "Python 3"
    },
    "language_info": {
      "name": "python"
    }
  },
  "cells": [
    {
      "cell_type": "markdown",
      "metadata": {
        "id": "view-in-github",
        "colab_type": "text"
      },
      "source": [
        "<a href=\"https://colab.research.google.com/github/smduarte/ps2022/blob/main/tp1/ps2022_tp1.ipynb\" target=\"_parent\"><img src=\"https://colab.research.google.com/assets/colab-badge.svg\" alt=\"Open In Colab\"/></a>"
      ]
    },
    {
      "cell_type": "markdown",
      "metadata": {
        "id": "KgFZlT_g8O1Y"
      },
      "source": [
        "# Processamento de Streams 2022\n",
        "## TP1 - Air Quality Monitoring (airborne particulate matter)\n",
        "-- version April 6 \n",
        " - updated to full dataset.\n",
        "\n",
        "\n"
      ]
    },
    {
      "cell_type": "markdown",
      "source": [
        "The goal of this project is to analyze data provided by a set of air quality sensors [sds011](https://aqicn.org/sensor/sds011/pt/). The sensors present in the dataset are located in Portugal, namely in the Lisbon metro area. Each sensor provides two values: measuring particles less than 10 µm (P1) and less than 2.5 µm (P2) in μg/m³.\n",
        "\n",
        "The sensor data, spans the first half of 2020, and is streamed of Kafka. \n",
        "\n",
        "Each data sample has the following schema:\n",
        "\n",
        "sensor_id | sensor_type | location | latitude | longitude | timestamp | P1 | P2\n",
        "----------|-------------|----------|----------|-----------|-----------|----|---\n",
        "string  | string | string | float | float| timestamp | float | float\n",
        "\n"
      ],
      "metadata": {
        "id": "IRDJq9dL0GWA"
      }
    },
    {
      "cell_type": "markdown",
      "source": [
        "## Questions\n",
        "\n",
        "\n",
        "1. Find the time of day with the poorest air quality, for each location. Updated daily;\n",
        "2. Find the average air quality, for each location. Updated hourly;\n",
        "3. Can you show any daily and/or weekly patterns to air quality?;\n",
        "4. The data covers a period of extensive population confinement due to Covid 19. Can you find a signal in the data showing air quality improvement coinciding with the confinement period?"
      ],
      "metadata": {
        "id": "HC6tMDOU7Fdb"
      }
    },
    {
      "cell_type": "markdown",
      "source": [
        "## Requeriments\n",
        "\n",
        "1. Solve each question using one of the systems studied in the course.\n",
        "2. For questions not fully specified, provide your own interpretation, given your own analysis of the data."
      ],
      "metadata": {
        "id": "kdTj-7SD-67o"
      }
    },
    {
      "cell_type": "markdown",
      "source": [
        "## Grading Criteria \n",
        "\n",
        "1. Bonus marks will be given for solving questions using more than one system (eg. Spark Unstructured + Spark Structured);\n",
        "2. Bonus marks will be given if some kind of graphical output is provided to present the results;\n",
        "3. Grading will also take into account the general clarity of the programming and of the presentation report (notebook).\n",
        "\n",
        "\n"
      ],
      "metadata": {
        "id": "qN2ogthr_EIH"
      }
    },
    {
      "cell_type": "markdown",
      "source": [
        "### Deadline\n",
        "\n",
        "24th April + 1 day - ***no penalty***\n",
        "\n",
        "For each day late, ***0.5 / day penalty***. Penalty accumulates until\n",
        "the grade of the assignment reaches 8.0."
      ],
      "metadata": {
        "id": "8M6lYfT_BpAO"
      }
    },
    {
      "cell_type": "markdown",
      "source": [
        "---\n",
        "### Colab Setup\n"
      ],
      "metadata": {
        "id": "81dR9BTgBg1s"
      }
    },
    {
      "cell_type": "code",
      "metadata": {
        "id": "1eIWfDqQ3Cqi"
      },
      "source": [
        "#@title Mount Google Drive (Optional)\n",
        "from google.colab import drive\n",
        "drive.mount('/content/drive')"
      ],
      "execution_count": null,
      "outputs": []
    },
    {
      "cell_type": "code",
      "source": [
        "#@title Install PySpark\n",
        "!pip install pyspark findspark --quiet\n",
        "import findspark\n",
        "findspark.init()\n",
        "findspark.find()"
      ],
      "metadata": {
        "id": "L2O_3I3x1dbx",
        "outputId": "93e0e050-3b5e-4a10-adce-b7719a782a2d",
        "colab": {
          "base_uri": "https://localhost:8080/",
          "height": 89
        }
      },
      "execution_count": 1,
      "outputs": [
        {
          "output_type": "stream",
          "name": "stdout",
          "text": [
            "\u001b[K     |████████████████████████████████| 281.4 MB 34 kB/s \n",
            "\u001b[K     |████████████████████████████████| 198 kB 35.3 MB/s \n",
            "\u001b[?25h  Building wheel for pyspark (setup.py) ... \u001b[?25l\u001b[?25hdone\n"
          ]
        },
        {
          "output_type": "execute_result",
          "data": {
            "text/plain": [
              "'/usr/local/lib/python3.7/dist-packages/pyspark'"
            ],
            "application/vnd.google.colaboratory.intrinsic+json": {
              "type": "string"
            }
          },
          "metadata": {},
          "execution_count": 1
        }
      ]
    },
    {
      "cell_type": "code",
      "source": [
        "#@title Install & Launch Kafka\n",
        "%%bash\n",
        "KAFKA_VERSION=3.1.0\n",
        "KAFKA=kafka_2.13-$KAFKA_VERSION\n",
        "wget -q -O /tmp/$KAFKA.tgz https://dlcdn.apache.org/kafka/$KAFKA_VERSION/$KAFKA.tgz\n",
        "tar xfz /tmp/$KAFKA.tgz\n",
        "wget -q -O $KAFKA/config/server1.properties - https://github.com/smduarte/ps2022/raw/main/colab/server1.properties\n",
        "\n",
        "UUID=`$KAFKA/bin/kafka-storage.sh random-uuid`\n",
        "$KAFKA/bin/kafka-storage.sh format -t $UUID -c $KAFKA/config/server1.properties\n",
        "$KAFKA/bin/kafka-server-start.sh -daemon $KAFKA/config/server1.properties\n"
      ],
      "metadata": {
        "id": "Zl0sBUzOe7Af",
        "cellView": "form"
      },
      "execution_count": null,
      "outputs": []
    },
    {
      "cell_type": "markdown",
      "source": [
        "### Air quality sensor data publisher\n",
        "This a small python Kafka client that publishes a continous stream of text lines, obtained from the periodic output of the sensors.\n",
        "\n",
        "* The Kafka server is accessible @localhost:9092 \n",
        "* The events are published to the `air_quality` topic\n",
        "* Events are published 3600x faster than realtime relative to the timestamp\n"
      ],
      "metadata": {
        "id": "51ECJ--i0D2G"
      }
    },
    {
      "cell_type": "code",
      "source": [
        "#@title Start Kafka Publisher\n",
        "%%bash\n",
        "pip install kafka-python dataclasses --quiet\n",
        "wget -q -O - https://github.com/smduarte/ps2022/raw/main/colab/kafka-tp1-logsender.tgz | tar xfz - 2> /dev/null\n",
        "\n",
        "cd kafka-tp1-logsender\n",
        "nohup python publisher.py --filename 2020-01-06_sds011-pt.csv --topic air_quality  --speedup 3600 2> publisher-error.log > publisher-out.log &"
      ],
      "metadata": {
        "id": "GElosFxt-D4j"
      },
      "execution_count": null,
      "outputs": []
    },
    {
      "cell_type": "markdown",
      "source": [
        "The python code below shows the basics needed to process JSON data from Kafka source using PySpark.\n",
        "\n",
        "Spark Streaming python documentation is found [here](https://spark.apache.org/docs/latest/api/python/reference/pyspark.streaming.html)\n",
        "\n",
        "---\n",
        "#### PySpark Kafka Stream Example\n"
      ],
      "metadata": {
        "id": "1wihC26vaiT1"
      }
    },
    {
      "cell_type": "code",
      "metadata": {
        "id": "QpO0aX2PPWd1"
      },
      "source": [
        "from pyspark.sql import SparkSession\n",
        "from pyspark.sql.functions import *\n",
        "from pyspark.sql.types import *\n",
        "\n",
        "def dumpBatchDF(df, epoch_id):\n",
        "    df.show(20, False)\n",
        "\n",
        "spark = SparkSession \\\n",
        "    .builder \\\n",
        "    .appName('Kafka Spark Structured Streaming Example') \\\n",
        "    .config('spark.jars.packages', 'org.apache.spark:spark-sql-kafka-0-10_2.12:3.2.1') \\\n",
        "    .getOrCreate()\n",
        "\n",
        "lines = spark \\\n",
        "  .readStream \\\n",
        "  .format('kafka') \\\n",
        "  .option('kafka.bootstrap.servers', 'localhost:9092') \\\n",
        "  .option('subscribe', 'air_quality') \\\n",
        "  .option('startingOffsets', 'earliest') \\\n",
        "  .load() \\\n",
        "  .selectExpr('CAST(value AS STRING)')\n",
        "\n",
        "\n",
        "schema = StructType([StructField('timestamp', TimestampType(), True),\n",
        "                     StructField('sensor_id', StringType(), True),\n",
        "                     StructField('sensor_type', StringType(), True),\n",
        "                     StructField('location', StringType(), True),\n",
        "                     StructField('latitude', FloatType(), True),\n",
        "                     StructField('longitude', FloatType(), True),\n",
        "                     StructField('p1', FloatType(), True),\n",
        "                     StructField('p2', FloatType(), True)])\n",
        "\n",
        "lines = lines.select( from_json(col('value'), schema).alias('data')).select('data.*')\n",
        "\n",
        "query = lines \\\n",
        "    .writeStream \\\n",
        "    .outputMode('append') \\\n",
        "    .foreachBatch(dumpBatchDF) \\\n",
        "    .start()\n",
        "\n",
        "query.awaitTermination(600)\n",
        "query.stop()\n",
        "spark.stop()"
      ],
      "execution_count": null,
      "outputs": []
    },
    {
      "cell_type": "markdown",
      "source": [
        "### Spark Streaming (UnStructured) \n",
        "\n",
        "Latest Spark does not support Kafka sources with UnStructured Streaming.\n",
        "\n",
        "The next cell publishes the dataset using a TCP server, running at port 7777. For this mode, there is no need to install or run Kafka, using the cell above.\n",
        "\n",
        "The events are played faster than \"realtime\", at a 3600x speedup, such that 1 hour in terms of dataset timestamps is\n",
        "sent in 1 second realtime, provided the machine is fast enough. As such, Spark Streaming window functions need to be sized accordingly, since a minibatch of 1 second will be\n",
        "worth 1 hour of dataset events."
      ],
      "metadata": {
        "id": "EMAyVFCwTTKk"
      }
    },
    {
      "cell_type": "code",
      "source": [
        "#@title Start Socket-based Publisher\n",
        "%%bash\n",
        "\n",
        "git clone https://github.com/smduarte/ps2022.git 2> /dev/null > /dev/null || git -C ps2022 pull\n",
        "cd ps2022/colab/socket-tp1-logsender/\n",
        "\n",
        "nohup python publisher.py --filename 2020-01-06_sds011-pt.csv --port 7777  --speedup 3600 2> /tmp/publisher-error.log > /tmp/publisher-out.log &"
      ],
      "metadata": {
        "id": "oFrPUKgtNjxO",
        "outputId": "31eb51d2-06a5-4e4f-c249-247d972999d6",
        "colab": {
          "base_uri": "https://localhost:8080/"
        }
      },
      "execution_count": 2,
      "outputs": [
        {
          "output_type": "stream",
          "name": "stderr",
          "text": [
            "bash: line 6: !cat: command not found\n"
          ]
        }
      ]
    },
    {
      "cell_type": "code",
      "source": [
        "#@title Spark Streaming (Unstructured) Example\n",
        "from pyspark import SparkContext\n",
        "from pyspark.sql import SparkSession\n",
        "from pyspark.streaming import StreamingContext\n",
        "\n",
        "spark = SparkSession \\\n",
        "    .builder \\\n",
        "    .appName('Kafka Spark UnStructured Streaming Example') \\\n",
        "    .config('spark.jars.packages', 'org.apache.spark:spark-sql-kafka-0-10_2.12:3.2.1') \\\n",
        "    .getOrCreate()\n",
        "\n",
        "try:\n",
        "  ssc = StreamingContext(spark.sparkContext, 1)\n",
        "  lines = ssc.socketTextStream('localhost', 7777) \n",
        "\n",
        "  lines.pprint()\n",
        "    \n",
        "  ssc.start()\n",
        "  ssc.awaitTermination(20)  \n",
        "except Exception as err:\n",
        "  print(err)\n",
        "ssc.stop()\n",
        "spark.stop()"
      ],
      "metadata": {
        "id": "RLHQoF9xOLKj",
        "outputId": "75fb6070-114d-4626-e501-292ccaf7f2a6",
        "colab": {
          "base_uri": "https://localhost:8080/"
        }
      },
      "execution_count": 1,
      "outputs": [
        {
          "output_type": "stream",
          "name": "stdout",
          "text": [
            "-------------------------------------------\n",
            "Time: 2022-04-08 22:28:37\n",
            "-------------------------------------------\n",
            "\n",
            "-------------------------------------------\n",
            "Time: 2022-04-08 22:28:38\n",
            "-------------------------------------------\n",
            "25874 SDS011 13691 37.09194288 -8.68310094 19.83 14.53\n",
            "20000 SDS011 10161 41.188 -8.642 109.27 69.5\n",
            "27393 SDS011 14858 41.2 -8.326 348.83 198.47\n",
            "18144 SDS011 14857 41.2 -8.326 408.73 156.47\n",
            "25874 SDS011 13691 37.09194288 -8.68310094 19.07 13.43\n",
            "20000 SDS011 10161 41.188 -8.642 111.63 68.5\n",
            "18144 SDS011 14857 41.2 -8.326 204.17 93.7\n",
            "27393 SDS011 14858 41.2 -8.326 314.53 177.1\n",
            "25874 SDS011 13691 37.09194288 -8.68310094 15.73 13.2\n",
            "\n",
            "-------------------------------------------\n",
            "Time: 2022-04-08 22:28:39\n",
            "-------------------------------------------\n",
            "20000 SDS011 10161 41.188 -8.642 98.8 66.03\n",
            "18144 SDS011 14857 41.2 -8.326 234.77 104.57\n",
            "27393 SDS011 14858 41.2 -8.326 279.97 165.1\n",
            "25874 SDS011 13691 37.09194288 -8.68310094 18.4 13.4\n",
            "20000 SDS011 10161 41.188 -8.642 107.27 70.7\n",
            "18144 SDS011 14857 41.2 -8.326 205.37 96.3\n",
            "27393 SDS011 14858 41.2 -8.326 312.67 190.47\n",
            "25874 SDS011 13691 37.09194288 -8.68310094 16.67 12.63\n",
            "20000 SDS011 10161 41.188 -8.642 127.47 79.03\n",
            "18144 SDS011 14857 41.2 -8.326 186.6 89.53\n",
            "...\n",
            "\n",
            "-------------------------------------------\n",
            "Time: 2022-04-08 22:28:40\n",
            "-------------------------------------------\n",
            "25874 SDS011 13691 37.09194288 -8.68310094 49.27 31.57\n",
            "18144 SDS011 14857 41.2 -8.326 118.27 54.83\n",
            "27393 SDS011 14858 41.2 -8.326 230.8 120.53\n",
            "4638 SDS011 2332 38.646 -9.154 405.93 197.0\n",
            "20000 SDS011 10161 41.188 -8.642 107.27 67.47\n",
            "25874 SDS011 13691 37.09194288 -8.68310094 35.97 24.07\n",
            "18144 SDS011 14857 41.2 -8.326 128.93 54.73\n",
            "27393 SDS011 14858 41.2 -8.326 235.33 122.9\n",
            "4638 SDS011 2332 38.646 -9.154 452.37 202.5\n",
            "20000 SDS011 10161 41.188 -8.642 106.1 66.87\n",
            "...\n",
            "\n",
            "-------------------------------------------\n",
            "Time: 2022-04-08 22:28:41\n",
            "-------------------------------------------\n",
            "27393 SDS011 14858 41.2 -8.326 176.03 72.4\n",
            "18144 SDS011 14857 41.2 -8.326 78.3 30.73\n",
            "20000 SDS011 10161 41.188 -8.642 73.43 47.53\n",
            "4638 SDS011 2332 38.646 -9.154 394.33 202.87\n",
            "25874 SDS011 13691 37.09194288 -8.68310094 56.6 35.7\n",
            "27393 SDS011 14858 41.2 -8.326 167.87 71.17\n",
            "18144 SDS011 14857 41.2 -8.326 88.6 34.0\n",
            "20000 SDS011 10161 41.188 -8.642 72.2 45.5\n",
            "4638 SDS011 2332 38.646 -9.154 418.67 214.53\n",
            "25874 SDS011 13691 37.09194288 -8.68310094 63.17 36.27\n",
            "...\n",
            "\n",
            "-------------------------------------------\n",
            "Time: 2022-04-08 22:28:42\n",
            "-------------------------------------------\n",
            "25874 SDS011 13691 37.09194288 -8.68310094 10.33 8.0\n",
            "18144 SDS011 14857 41.2 -8.326 56.4 23.47\n",
            "27393 SDS011 14858 41.2 -8.326 156.1 55.88\n",
            "20000 SDS011 10161 41.188 -8.642 74.57 47.7\n",
            "25874 SDS011 13691 37.09194288 -8.68310094 12.03 7.73\n",
            "18144 SDS011 14857 41.2 -8.326 68.63 22.97\n",
            "27393 SDS011 14858 41.2 -8.326 140.13 51.73\n",
            "20000 SDS011 10161 41.188 -8.642 80.17 47.27\n",
            "25874 SDS011 13691 37.09194288 -8.68310094 12.9 7.5\n",
            "18144 SDS011 14857 41.2 -8.326 56.83 22.97\n",
            "...\n",
            "\n",
            "-------------------------------------------\n",
            "Time: 2022-04-08 22:28:43\n",
            "-------------------------------------------\n",
            "4638 SDS011 2332 38.646 -9.154 191.67 95.33\n",
            "20000 SDS011 10161 41.188 -8.642 58.63 35.7\n",
            "18144 SDS011 14857 41.2 -8.326 44.2 18.5\n",
            "27393 SDS011 14858 41.2 -8.326 124.57 44.73\n",
            "25874 SDS011 13691 37.09194288 -8.68310094 10.07 6.27\n",
            "20000 SDS011 10161 41.188 -8.642 67.73 39.97\n",
            "18144 SDS011 14857 41.2 -8.326 53.73 21.27\n",
            "4638 SDS011 2332 38.646 -9.154 292.2 94.37\n",
            "27393 SDS011 14858 41.2 -8.326 118.03 43.5\n",
            "25874 SDS011 13691 37.09194288 -8.68310094 9.9 6.5\n",
            "...\n",
            "\n",
            "-------------------------------------------\n",
            "Time: 2022-04-08 22:28:44\n",
            "-------------------------------------------\n",
            "4638 SDS011 2332 38.646 -9.154 160.87 77.2\n",
            "27393 SDS011 14858 41.2 -8.326 109.6 41.13\n",
            "20000 SDS011 10161 41.188 -8.642 58.3 35.53\n",
            "18144 SDS011 14857 41.2 -8.326 43.6 18.45\n",
            "25874 SDS011 13691 37.09194288 -8.68310094 10.0 6.17\n",
            "4638 SDS011 2332 38.646 -9.154 142.73 78.97\n",
            "27393 SDS011 14858 41.2 -8.326 111.0 43.0\n",
            "20000 SDS011 10161 41.188 -8.642 52.1 32.5\n",
            "18144 SDS011 14857 41.2 -8.326 40.87 17.2\n",
            "25874 SDS011 13691 37.09194288 -8.68310094 8.47 5.97\n",
            "...\n",
            "\n",
            "-------------------------------------------\n",
            "Time: 2022-04-08 22:28:45\n",
            "-------------------------------------------\n",
            "25874 SDS011 13691 37.09194288 -8.68310094 10.67 6.03\n",
            "27393 SDS011 14858 41.2 -8.326 107.5 41.9\n",
            "18144 SDS011 14857 41.2 -8.326 46.83 18.9\n",
            "4638 SDS011 2332 38.646 -9.154 107.67 58.5\n",
            "20000 SDS011 10161 41.188 -8.642 48.8 33.4\n",
            "25874 SDS011 13691 37.09194288 -8.68310094 9.03 6.17\n",
            "27393 SDS011 14858 41.2 -8.326 107.6 43.37\n",
            "18144 SDS011 14857 41.2 -8.326 47.7 19.3\n",
            "4638 SDS011 2332 38.646 -9.154 110.63 57.3\n",
            "20000 SDS011 10161 41.188 -8.642 47.37 30.23\n",
            "...\n",
            "\n",
            "-------------------------------------------\n",
            "Time: 2022-04-08 22:28:46\n",
            "-------------------------------------------\n",
            "27393 SDS011 14858 41.2 -8.326 86.83 38.67\n",
            "20000 SDS011 10161 41.188 -8.642 39.0 25.8\n",
            "25874 SDS011 13691 37.09194288 -8.68310094 11.53 6.97\n",
            "18144 SDS011 14857 41.2 -8.326 58.83 24.63\n",
            "4638 SDS011 2332 38.646 -9.154 67.47 42.3\n",
            "27393 SDS011 14858 41.2 -8.326 80.0 35.53\n",
            "20000 SDS011 10161 41.188 -8.642 38.13 24.0\n",
            "25874 SDS011 13691 37.09194288 -8.68310094 9.87 6.3\n",
            "18144 SDS011 14857 41.2 -8.326 56.83 24.95\n",
            "4638 SDS011 2332 38.646 -9.154 68.53 40.77\n",
            "...\n",
            "\n",
            "-------------------------------------------\n",
            "Time: 2022-04-08 22:28:47\n",
            "-------------------------------------------\n",
            "27393 SDS011 14858 41.2 -8.326 75.07 32.33\n",
            "18144 SDS011 14857 41.2 -8.326 49.83 20.5\n",
            "4638 SDS011 2332 38.646 -9.154 88.77 34.03\n",
            "20000 SDS011 10161 41.188 -8.642 38.1 25.1\n",
            "25874 SDS011 13691 37.09194288 -8.68310094 10.6 7.1\n",
            "18144 SDS011 14857 41.2 -8.326 52.42 21.58\n",
            "27393 SDS011 14858 41.2 -8.326 76.33 33.2\n",
            "4638 SDS011 2332 38.646 -9.154 232.77 36.73\n",
            "20000 SDS011 10161 41.188 -8.642 41.6 24.6\n",
            "25874 SDS011 13691 37.09194288 -8.68310094 11.0 7.83\n",
            "...\n",
            "\n",
            "-------------------------------------------\n",
            "Time: 2022-04-08 22:28:48\n",
            "-------------------------------------------\n",
            "4638 SDS011 2332 38.646 -9.154 44.5 29.67\n",
            "33204 SDS011 19563 39.5323909 -8.92895043 34.22 21.5\n",
            "27393 SDS011 14858 41.2 -8.326 59.17 29.73\n",
            "25874 SDS011 13691 37.09194288 -8.68310094 13.3 9.3\n",
            "20000 SDS011 10161 41.188 -8.642 33.87 21.33\n",
            "4638 SDS011 2332 38.646 -9.154 43.27 29.3\n",
            "33204 SDS011 19563 39.5323909 -8.92895043 33.92 23.38\n",
            "18144 SDS011 14857 41.2 -8.326 43.87 19.03\n",
            "27393 SDS011 14858 41.2 -8.326 72.3 30.55\n",
            "25874 SDS011 13691 37.09194288 -8.68310094 16.5 9.47\n",
            "...\n",
            "\n",
            "-------------------------------------------\n",
            "Time: 2022-04-08 22:28:49\n",
            "-------------------------------------------\n",
            "4638 SDS011 2332 38.646 -9.154 87.2 38.17\n",
            "25874 SDS011 13691 37.09194288 -8.68310094 15.03 10.87\n",
            "18144 SDS011 14857 41.2 -8.326 47.58 22.65\n",
            "27393 SDS011 14858 41.2 -8.326 65.8 33.73\n",
            "20000 SDS011 10161 41.188 -8.642 26.3 17.67\n",
            "33204 SDS011 19563 39.5323909 -8.92895043 27.9 22.77\n",
            "4638 SDS011 2332 38.646 -9.154 63.3 38.9\n",
            "25874 SDS011 13691 37.09194288 -8.68310094 15.6 10.3\n",
            "27393 SDS011 14858 41.2 -8.326 63.47 32.6\n",
            "18144 SDS011 14857 41.2 -8.326 42.78 19.85\n",
            "...\n",
            "\n",
            "-------------------------------------------\n",
            "Time: 2022-04-08 22:28:50\n",
            "-------------------------------------------\n",
            "33204 SDS011 19563 39.5323909 -8.92895043 27.5 22.6\n",
            "25874 SDS011 13691 37.09194288 -8.68310094 14.87 11.37\n",
            "20000 SDS011 10161 41.188 -8.642 23.4 15.97\n",
            "18144 SDS011 14857 41.2 -8.326 57.03 27.85\n",
            "27393 SDS011 14858 41.2 -8.326 74.97 41.5\n",
            "33204 SDS011 19563 39.5323909 -8.92895043 24.83 20.65\n",
            "25874 SDS011 13691 37.09194288 -8.68310094 15.43 10.37\n",
            "20000 SDS011 10161 41.188 -8.642 23.07 14.83\n",
            "18144 SDS011 14857 41.2 -8.326 61.03 31.15\n",
            "27393 SDS011 14858 41.2 -8.326 72.4 41.35\n",
            "...\n",
            "\n",
            "-------------------------------------------\n",
            "Time: 2022-04-08 22:28:51\n",
            "-------------------------------------------\n",
            "27393 SDS011 14858 41.2 -8.326 71.57 44.4\n",
            "18144 SDS011 14857 41.2 -8.326 44.95 27.73\n",
            "33204 SDS011 19563 39.5323909 -8.92895043 15.07 13.4\n",
            "20000 SDS011 10161 41.188 -8.642 25.5 16.5\n",
            "25874 SDS011 13691 37.09194288 -8.68310094 12.43 9.6\n",
            "27393 SDS011 14858 41.2 -8.326 76.82 43.85\n",
            "18144 SDS011 14857 41.2 -8.326 45.33 28.02\n",
            "33204 SDS011 19563 39.5323909 -8.92895043 15.85 14.15\n",
            "20000 SDS011 10161 41.188 -8.642 23.7 17.6\n",
            "25874 SDS011 13691 37.09194288 -8.68310094 14.4 10.13\n",
            "...\n",
            "\n",
            "-------------------------------------------\n",
            "Time: 2022-04-08 22:28:52\n",
            "-------------------------------------------\n",
            "25874 SDS011 13691 37.09194288 -8.68310094 16.93 10.2\n",
            "18144 SDS011 14857 41.2 -8.326 36.92 21.23\n",
            "33204 SDS011 19563 39.5323909 -8.92895043 11.35 10.35\n",
            "27393 SDS011 14858 41.2 -8.326 48.28 32.78\n",
            "20000 SDS011 10161 41.188 -8.642 27.57 19.77\n",
            "25874 SDS011 13691 37.09194288 -8.68310094 14.9 9.27\n",
            "4638 SDS011 2332 38.646 -9.154 44.77 31.53\n",
            "33204 SDS011 19563 39.5323909 -8.92895043 13.07 11.93\n",
            "18144 SDS011 14857 41.2 -8.326 35.97 20.7\n",
            "27393 SDS011 14858 41.2 -8.326 47.1 33.08\n",
            "...\n",
            "\n",
            "-------------------------------------------\n",
            "Time: 2022-04-08 22:28:53\n",
            "-------------------------------------------\n",
            "20000 SDS011 10161 41.188 -8.642 27.0 20.13\n",
            "33204 SDS011 19563 39.5323909 -8.92895043 14.43 13.1\n",
            "18144 SDS011 14857 41.2 -8.326 59.13 33.65\n",
            "27393 SDS011 14858 41.2 -8.326 72.72 57.45\n",
            "25874 SDS011 13691 37.09194288 -8.68310094 10.0 7.13\n",
            "20000 SDS011 10161 41.188 -8.642 24.1 18.77\n",
            "33204 SDS011 19563 39.5323909 -8.92895043 12.18 10.88\n",
            "18144 SDS011 14857 41.2 -8.326 42.9 23.17\n",
            "27393 SDS011 14858 41.2 -8.326 60.92 43.63\n",
            "25874 SDS011 13691 37.09194288 -8.68310094 12.6 7.93\n",
            "...\n",
            "\n",
            "-------------------------------------------\n",
            "Time: 2022-04-08 22:28:54\n",
            "-------------------------------------------\n",
            "27393 SDS011 14858 41.2 -8.326 157.9 95.7\n",
            "18144 SDS011 14857 41.2 -8.326 121.0 54.7\n",
            "33204 SDS011 19563 39.5323909 -8.92895043 10.48 9.57\n",
            "25874 SDS011 13691 37.09194288 -8.68310094 10.7 7.8\n",
            "20000 SDS011 10161 41.188 -8.642 79.37 49.3\n",
            "27393 SDS011 14858 41.2 -8.326 107.35 69.82\n",
            "18144 SDS011 14857 41.2 -8.326 133.02 59.1\n",
            "33204 SDS011 19563 39.5323909 -8.92895043 12.55 11.35\n",
            "25874 SDS011 13691 37.09194288 -8.68310094 11.53 8.17\n",
            "20000 SDS011 10161 41.188 -8.642 94.2 50.77\n",
            "...\n",
            "\n",
            "-------------------------------------------\n",
            "Time: 2022-04-08 22:28:55\n",
            "-------------------------------------------\n",
            "25874 SDS011 13691 37.09194288 -8.68310094 14.17 8.4\n",
            "4638 SDS011 2332 38.646 -9.154 85.17 77.8\n",
            "20000 SDS011 10161 41.188 -8.642 97.57 52.6\n",
            "18144 SDS011 14857 41.2 -8.326 39.13 20.6\n",
            "27393 SDS011 14858 41.2 -8.326 49.0 35.4\n",
            "25874 SDS011 13691 37.09194288 -8.68310094 13.27 8.3\n",
            "20000 SDS011 10161 41.188 -8.642 91.87 52.93\n",
            "18144 SDS011 14857 41.2 -8.326 41.22 20.23\n",
            "27393 SDS011 14858 41.2 -8.326 49.08 34.45\n",
            "25874 SDS011 13691 37.09194288 -8.68310094 15.13 9.0\n",
            "...\n",
            "\n",
            "-------------------------------------------\n",
            "Time: 2022-04-08 22:28:56\n",
            "-------------------------------------------\n",
            "4638 SDS011 2332 38.646 -9.154 90.47 83.33\n",
            "18144 SDS011 14857 41.2 -8.326 26.55 15.05\n",
            "25874 SDS011 13691 37.09194288 -8.68310094 21.1 16.27\n",
            "27393 SDS011 14858 41.2 -8.326 32.3 23.73\n",
            "20000 SDS011 10161 41.188 -8.642 113.93 68.67\n",
            "4638 SDS011 2332 38.646 -9.154 87.9 80.8\n",
            "18144 SDS011 14857 41.2 -8.326 30.33 14.7\n",
            "25874 SDS011 13691 37.09194288 -8.68310094 21.57 15.47\n",
            "27393 SDS011 14858 41.2 -8.326 36.0 25.17\n",
            "20000 SDS011 10161 41.188 -8.642 112.9 63.47\n",
            "...\n",
            "\n",
            "-------------------------------------------\n",
            "Time: 2022-04-08 22:28:57\n",
            "-------------------------------------------\n",
            "27393 SDS011 14858 41.2 -8.326 52.8 37.2\n",
            "18144 SDS011 14857 41.2 -8.326 39.47 20.52\n",
            "20000 SDS011 10161 41.188 -8.642 143.73 80.87\n",
            "4638 SDS011 2332 38.646 -9.154 131.17 110.4\n",
            "25874 SDS011 13691 37.09194288 -8.68310094 33.07 26.83\n",
            "27393 SDS011 14858 41.2 -8.326 49.92 37.72\n",
            "18144 SDS011 14857 41.2 -8.326 37.53 20.08\n",
            "20000 SDS011 10161 41.188 -8.642 137.9 79.37\n",
            "4638 SDS011 2332 38.646 -9.154 162.4 127.1\n",
            "25874 SDS011 13691 37.09194288 -8.68310094 48.17 37.0\n",
            "...\n",
            "\n"
          ]
        }
      ]
    }
  ]
}